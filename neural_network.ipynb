{
  "nbformat": 4,
  "nbformat_minor": 0,
  "metadata": {
    "colab": {
      "name": "neural_network.ipynb",
      "provenance": [],
      "collapsed_sections": []
    },
    "kernelspec": {
      "name": "python3",
      "display_name": "Python 3"
    },
    "language_info": {
      "name": "python"
    },
    "accelerator": "GPU"
  },
  "cells": [
    {
      "cell_type": "code",
      "metadata": {
        "id": "cU-PYwuWbBa5"
      },
      "source": [
        "import tensorflow as tf\n",
        "from tensorflow import keras\n",
        "from tensorflow.keras import layers\n",
        "import matplotlib.pyplot as plt\n",
        "import pandas as pd\n",
        "import numpy as np"
      ],
      "execution_count": 1,
      "outputs": []
    },
    {
      "cell_type": "code",
      "metadata": {
        "colab": {
          "base_uri": "https://localhost:8080/",
          "height": 292
        },
        "id": "IEXvn6Ryb8J-",
        "outputId": "430e743b-deda-4f4d-d4ae-d24bec15c62c"
      },
      "source": [
        "df = pd.read_csv(\"insurance_cleaned_addcols.csv\")\n",
        "df.head()"
      ],
      "execution_count": 2,
      "outputs": [
        {
          "output_type": "execute_result",
          "data": {
            "text/html": [
              "<div>\n",
              "<style scoped>\n",
              "    .dataframe tbody tr th:only-of-type {\n",
              "        vertical-align: middle;\n",
              "    }\n",
              "\n",
              "    .dataframe tbody tr th {\n",
              "        vertical-align: top;\n",
              "    }\n",
              "\n",
              "    .dataframe thead th {\n",
              "        text-align: right;\n",
              "    }\n",
              "</style>\n",
              "<table border=\"1\" class=\"dataframe\">\n",
              "  <thead>\n",
              "    <tr style=\"text-align: right;\">\n",
              "      <th></th>\n",
              "      <th>months_as_customer</th>\n",
              "      <th>age</th>\n",
              "      <th>policy_number</th>\n",
              "      <th>policy_bind_date</th>\n",
              "      <th>policy_state</th>\n",
              "      <th>policy_csl</th>\n",
              "      <th>policy_deductable</th>\n",
              "      <th>policy_annual_premium</th>\n",
              "      <th>umbrella_limit</th>\n",
              "      <th>insured_zip</th>\n",
              "      <th>insured_sex</th>\n",
              "      <th>insured_education_level</th>\n",
              "      <th>insured_occupation</th>\n",
              "      <th>insured_hobbies</th>\n",
              "      <th>insured_relationship</th>\n",
              "      <th>capital-gains</th>\n",
              "      <th>capital-loss</th>\n",
              "      <th>incident_date</th>\n",
              "      <th>incident_type</th>\n",
              "      <th>collision_type</th>\n",
              "      <th>incident_severity</th>\n",
              "      <th>authorities_contacted</th>\n",
              "      <th>incident_state</th>\n",
              "      <th>incident_city</th>\n",
              "      <th>incident_location</th>\n",
              "      <th>incident_hour_of_the_day</th>\n",
              "      <th>number_of_vehicles_involved</th>\n",
              "      <th>property_damage</th>\n",
              "      <th>bodily_injuries</th>\n",
              "      <th>witnesses</th>\n",
              "      <th>police_report_available</th>\n",
              "      <th>total_claim_amount</th>\n",
              "      <th>injury_claim</th>\n",
              "      <th>property_claim</th>\n",
              "      <th>vehicle_claim</th>\n",
              "      <th>auto_make</th>\n",
              "      <th>auto_model</th>\n",
              "      <th>auto_year</th>\n",
              "      <th>fraud_reported</th>\n",
              "      <th>age_car_incident</th>\n",
              "      <th>age_policy_incident</th>\n",
              "      <th>workshop</th>\n",
              "      <th>adjuster</th>\n",
              "    </tr>\n",
              "  </thead>\n",
              "  <tbody>\n",
              "    <tr>\n",
              "      <th>0</th>\n",
              "      <td>328</td>\n",
              "      <td>48</td>\n",
              "      <td>521585</td>\n",
              "      <td>2014-10-17</td>\n",
              "      <td>OH</td>\n",
              "      <td>250/500</td>\n",
              "      <td>1000</td>\n",
              "      <td>1406.91</td>\n",
              "      <td>0</td>\n",
              "      <td>466132</td>\n",
              "      <td>MALE</td>\n",
              "      <td>MD</td>\n",
              "      <td>craft-repair</td>\n",
              "      <td>sleeping</td>\n",
              "      <td>husband</td>\n",
              "      <td>53300</td>\n",
              "      <td>0</td>\n",
              "      <td>2015-01-25</td>\n",
              "      <td>Single Vehicle Collision</td>\n",
              "      <td>Side Collision</td>\n",
              "      <td>Major Damage</td>\n",
              "      <td>Police</td>\n",
              "      <td>SC</td>\n",
              "      <td>Columbus</td>\n",
              "      <td>9935 4th Drive</td>\n",
              "      <td>5</td>\n",
              "      <td>1</td>\n",
              "      <td>1</td>\n",
              "      <td>1</td>\n",
              "      <td>2</td>\n",
              "      <td>1</td>\n",
              "      <td>71610</td>\n",
              "      <td>6510</td>\n",
              "      <td>13020</td>\n",
              "      <td>52080</td>\n",
              "      <td>Saab</td>\n",
              "      <td>92x</td>\n",
              "      <td>2004</td>\n",
              "      <td>1</td>\n",
              "      <td>11</td>\n",
              "      <td>1</td>\n",
              "      <td>A</td>\n",
              "      <td>Frank</td>\n",
              "    </tr>\n",
              "    <tr>\n",
              "      <th>1</th>\n",
              "      <td>228</td>\n",
              "      <td>42</td>\n",
              "      <td>342868</td>\n",
              "      <td>2006-06-27</td>\n",
              "      <td>IN</td>\n",
              "      <td>250/500</td>\n",
              "      <td>2000</td>\n",
              "      <td>1197.22</td>\n",
              "      <td>5000000</td>\n",
              "      <td>468176</td>\n",
              "      <td>MALE</td>\n",
              "      <td>MD</td>\n",
              "      <td>machine-op-inspct</td>\n",
              "      <td>reading</td>\n",
              "      <td>other-relative</td>\n",
              "      <td>0</td>\n",
              "      <td>0</td>\n",
              "      <td>2015-01-21</td>\n",
              "      <td>Vehicle Theft</td>\n",
              "      <td>Front Collision</td>\n",
              "      <td>Minor Damage</td>\n",
              "      <td>Police</td>\n",
              "      <td>VA</td>\n",
              "      <td>Riverwood</td>\n",
              "      <td>6608 MLK Hwy</td>\n",
              "      <td>8</td>\n",
              "      <td>1</td>\n",
              "      <td>1</td>\n",
              "      <td>0</td>\n",
              "      <td>0</td>\n",
              "      <td>1</td>\n",
              "      <td>5070</td>\n",
              "      <td>780</td>\n",
              "      <td>780</td>\n",
              "      <td>3510</td>\n",
              "      <td>Mercedes</td>\n",
              "      <td>E400</td>\n",
              "      <td>2007</td>\n",
              "      <td>1</td>\n",
              "      <td>8</td>\n",
              "      <td>9</td>\n",
              "      <td>A</td>\n",
              "      <td>Frank</td>\n",
              "    </tr>\n",
              "    <tr>\n",
              "      <th>2</th>\n",
              "      <td>134</td>\n",
              "      <td>29</td>\n",
              "      <td>687698</td>\n",
              "      <td>2000-06-09</td>\n",
              "      <td>OH</td>\n",
              "      <td>100/300</td>\n",
              "      <td>2000</td>\n",
              "      <td>1413.14</td>\n",
              "      <td>5000000</td>\n",
              "      <td>430632</td>\n",
              "      <td>FEMALE</td>\n",
              "      <td>PhD</td>\n",
              "      <td>sales</td>\n",
              "      <td>board-games</td>\n",
              "      <td>own-child</td>\n",
              "      <td>35100</td>\n",
              "      <td>0</td>\n",
              "      <td>2015-02-22</td>\n",
              "      <td>Multi-vehicle Collision</td>\n",
              "      <td>Rear Collision</td>\n",
              "      <td>Minor Damage</td>\n",
              "      <td>Police</td>\n",
              "      <td>NY</td>\n",
              "      <td>Columbus</td>\n",
              "      <td>7121 Francis Lane</td>\n",
              "      <td>7</td>\n",
              "      <td>3</td>\n",
              "      <td>0</td>\n",
              "      <td>2</td>\n",
              "      <td>3</td>\n",
              "      <td>0</td>\n",
              "      <td>34650</td>\n",
              "      <td>7700</td>\n",
              "      <td>3850</td>\n",
              "      <td>23100</td>\n",
              "      <td>Dodge</td>\n",
              "      <td>RAM</td>\n",
              "      <td>2007</td>\n",
              "      <td>0</td>\n",
              "      <td>8</td>\n",
              "      <td>15</td>\n",
              "      <td>A</td>\n",
              "      <td>Frank</td>\n",
              "    </tr>\n",
              "    <tr>\n",
              "      <th>3</th>\n",
              "      <td>256</td>\n",
              "      <td>41</td>\n",
              "      <td>227811</td>\n",
              "      <td>1990-05-25</td>\n",
              "      <td>IL</td>\n",
              "      <td>250/500</td>\n",
              "      <td>2000</td>\n",
              "      <td>1415.74</td>\n",
              "      <td>6000000</td>\n",
              "      <td>608117</td>\n",
              "      <td>FEMALE</td>\n",
              "      <td>PhD</td>\n",
              "      <td>armed-forces</td>\n",
              "      <td>board-games</td>\n",
              "      <td>unmarried</td>\n",
              "      <td>48900</td>\n",
              "      <td>-62400</td>\n",
              "      <td>2015-10-01</td>\n",
              "      <td>Single Vehicle Collision</td>\n",
              "      <td>Front Collision</td>\n",
              "      <td>Major Damage</td>\n",
              "      <td>Police</td>\n",
              "      <td>OH</td>\n",
              "      <td>Arlington</td>\n",
              "      <td>6956 Maple Drive</td>\n",
              "      <td>5</td>\n",
              "      <td>1</td>\n",
              "      <td>0</td>\n",
              "      <td>1</td>\n",
              "      <td>2</td>\n",
              "      <td>0</td>\n",
              "      <td>63400</td>\n",
              "      <td>6340</td>\n",
              "      <td>6340</td>\n",
              "      <td>50720</td>\n",
              "      <td>Chevrolet</td>\n",
              "      <td>Tahoe</td>\n",
              "      <td>2014</td>\n",
              "      <td>1</td>\n",
              "      <td>1</td>\n",
              "      <td>25</td>\n",
              "      <td>C</td>\n",
              "      <td>Harry</td>\n",
              "    </tr>\n",
              "    <tr>\n",
              "      <th>4</th>\n",
              "      <td>228</td>\n",
              "      <td>44</td>\n",
              "      <td>367455</td>\n",
              "      <td>2014-06-06</td>\n",
              "      <td>IL</td>\n",
              "      <td>500/1000</td>\n",
              "      <td>1000</td>\n",
              "      <td>1583.91</td>\n",
              "      <td>6000000</td>\n",
              "      <td>610706</td>\n",
              "      <td>MALE</td>\n",
              "      <td>Associate</td>\n",
              "      <td>sales</td>\n",
              "      <td>board-games</td>\n",
              "      <td>unmarried</td>\n",
              "      <td>66000</td>\n",
              "      <td>-46000</td>\n",
              "      <td>2015-02-17</td>\n",
              "      <td>Vehicle Theft</td>\n",
              "      <td>Front Collision</td>\n",
              "      <td>Minor Damage</td>\n",
              "      <td>None</td>\n",
              "      <td>NY</td>\n",
              "      <td>Arlington</td>\n",
              "      <td>3041 3rd Ave</td>\n",
              "      <td>20</td>\n",
              "      <td>1</td>\n",
              "      <td>0</td>\n",
              "      <td>0</td>\n",
              "      <td>1</td>\n",
              "      <td>0</td>\n",
              "      <td>6500</td>\n",
              "      <td>1300</td>\n",
              "      <td>650</td>\n",
              "      <td>4550</td>\n",
              "      <td>Accura</td>\n",
              "      <td>RSX</td>\n",
              "      <td>2009</td>\n",
              "      <td>0</td>\n",
              "      <td>6</td>\n",
              "      <td>1</td>\n",
              "      <td>C</td>\n",
              "      <td>Harry</td>\n",
              "    </tr>\n",
              "  </tbody>\n",
              "</table>\n",
              "</div>"
            ],
            "text/plain": [
              "   months_as_customer  age  ...  workshop adjuster\n",
              "0                 328   48  ...         A    Frank\n",
              "1                 228   42  ...         A    Frank\n",
              "2                 134   29  ...         A    Frank\n",
              "3                 256   41  ...         C    Harry\n",
              "4                 228   44  ...         C    Harry\n",
              "\n",
              "[5 rows x 43 columns]"
            ]
          },
          "metadata": {
            "tags": []
          },
          "execution_count": 2
        }
      ]
    },
    {
      "cell_type": "markdown",
      "metadata": {
        "id": "P2dvx03ZnDS_"
      },
      "source": [
        "### Separating numerical data and categorical data"
      ]
    },
    {
      "cell_type": "code",
      "metadata": {
        "colab": {
          "base_uri": "https://localhost:8080/"
        },
        "id": "Fxk2Uirah4Zw",
        "outputId": "8913f3ac-8820-4f2c-d757-07491c92133b"
      },
      "source": [
        "non_numerical_cols = []\n",
        "numerical_cols = []\n",
        "for col in df.columns:\n",
        "    if (df[col].dtype != np.int64 and df[col].dtype != np.float64):\n",
        "        non_numerical_cols.append(col)\n",
        "    else:\n",
        "        numerical_cols.append(col)\n",
        "numerical_cols.append('policy_bind_date')\n",
        "categorical = df[non_numerical_cols[1:]]\n",
        "numerical_cols.remove('fraud_reported')\n",
        "numerical = df[numerical_cols].copy()\n",
        "new_categorical = categorical.copy()\n",
        "\n",
        "date_str_to_num = lambda string: (int(string[:4]) - 1990) + int(string[5:7])/12 + int(string[-2:])/(12 * 30)\n",
        "for i in range(1000):\n",
        "    numerical['policy_bind_date'][i] = date_str_to_num(df['policy_bind_date'][i])\n",
        "for col in categorical.columns:\n",
        "    uniques = categorical[col].unique()\n",
        "    new_col = []\n",
        "    for i in range(1000):\n",
        "        n = len(uniques)\n",
        "        for j in range(n):\n",
        "            if (categorical[col][i] == uniques[j]):\n",
        "                new_col.append(j)\n",
        "                break\n",
        "    new_categorical[col] = new_col\n",
        "categorical = new_categorical\n",
        "numerical = numerical/numerical.mean()"
      ],
      "execution_count": 3,
      "outputs": [
        {
          "output_type": "stream",
          "text": [
            "/usr/local/lib/python3.7/dist-packages/ipykernel_launcher.py:16: SettingWithCopyWarning: \n",
            "A value is trying to be set on a copy of a slice from a DataFrame\n",
            "\n",
            "See the caveats in the documentation: https://pandas.pydata.org/pandas-docs/stable/user_guide/indexing.html#returning-a-view-versus-a-copy\n",
            "  app.launch_new_instance()\n"
          ],
          "name": "stderr"
        }
      ]
    },
    {
      "cell_type": "code",
      "metadata": {
        "id": "vycnI3hLcCIL"
      },
      "source": [
        "array = np.zeros((1000,categorical.max().sum() + len(categorical.columns)))\n",
        "index = 0\n",
        "def oneHot(val, maxVal):\n",
        "    output = [0]*maxVal\n",
        "    output[val] = 1\n",
        "    return output\n",
        "for col in categorical.columns:\n",
        "    num = categorical[col].max() + 1\n",
        "    arr = np.zeros((1000,num))\n",
        "    for i in range(1000):\n",
        "        arr[i] = oneHot(categorical[col][i], num)\n",
        "    array[:, index:index+num] = arr\n",
        "    index += num\n",
        "\n",
        "lst = [i for i in range(1000)]\n",
        "np.random.shuffle(lst)\n",
        "\n",
        "X_numerical_train = []\n",
        "X_categorical_train = []\n",
        "Y_train = []\n",
        "\n",
        "for i in lst[:800]:\n",
        "  X_numerical_train.append(numerical.iloc[i])\n",
        "  X_categorical_train.append(array[i])\n",
        "  Y_train.append(df['fraud_reported'].iloc[i])\n",
        "\n",
        "X_numerical_val = []\n",
        "X_categorical_val = []\n",
        "Y_val = []\n",
        "for i in lst[800:900]:\n",
        "  X_numerical_val.append(numerical.iloc[i])\n",
        "  X_categorical_val.append(array[i])\n",
        "  Y_val.append(df['fraud_reported'].iloc[i])\n",
        "\n",
        "X_numerical_test = []\n",
        "X_categorical_test = []\n",
        "Y_test = []\n",
        "for i in lst[900:]:\n",
        "  X_numerical_test.append(numerical.iloc[i])\n",
        "  X_categorical_test.append(array[i])\n",
        "  Y_test.append(df['fraud_reported'].iloc[i])"
      ],
      "execution_count": 4,
      "outputs": []
    },
    {
      "cell_type": "markdown",
      "metadata": {
        "id": "_3s0xFaAnI0f"
      },
      "source": [
        "### Simple dense model for comparison\n",
        "Typically ends with val_accuracy = 0.79"
      ]
    },
    {
      "cell_type": "code",
      "metadata": {
        "colab": {
          "base_uri": "https://localhost:8080/",
          "height": 564
        },
        "id": "qmZ2qRqcdwxx",
        "outputId": "b48a59b1-4f27-47ad-dafc-a288e3effd70"
      },
      "source": [
        "inputs_numerical = keras.Input(shape=(len(numerical_cols)), name = 'numerical_input_layer')\n",
        "dense_numerical = layers.Dense(30, activation='relu')(inputs_numerical)\n",
        "\n",
        "\n",
        "inputs_categorical = keras.Input(shape=(array.shape[1]), name = 'categorical_input_layer')\n",
        "flatten_categorical = layers.Flatten()(inputs_categorical)\n",
        "dense_categorical = layers.Dense(30, activation='relu')(flatten_categorical)\n",
        "\n",
        "flatten_combined = layers.Concatenate()([dense_numerical, dense_categorical])\n",
        "dense_combined = layers.Dense(30, activation='relu')(flatten_combined)\n",
        "outputs = layers.Dense(1, activation='sigmoid')(dense_combined)\n",
        "model = keras.Model(inputs=[inputs_numerical, inputs_categorical], outputs=outputs)\n",
        "\n",
        "model.compile(optimizer=\"Adam\", loss=\"binary_crossentropy\",metrics = ['accuracy'])\n",
        "\n",
        "keras.utils.plot_model(model)"
      ],
      "execution_count": 5,
      "outputs": [
        {
          "output_type": "execute_result",
          "data": {
            "image/png": "[encoded data removed]",
            "text/plain": [
              "<IPython.core.display.Image object>"
            ]
          },
          "metadata": {
            "tags": []
          },
          "execution_count": 5
        }
      ]
    },
    {
      "cell_type": "code",
      "metadata": {
        "colab": {
          "base_uri": "https://localhost:8080/"
        },
        "id": "LOg7wPlIcDTj",
        "outputId": "30a21f6a-63f8-4d13-c183-8c29c5e85eec"
      },
      "source": [
        "bestValLoss = keras.callbacks.EarlyStopping(\n",
        "    monitor='val_loss', min_delta=0, patience=15, verbose=0,\n",
        "    mode='auto', baseline=None, restore_best_weights=True\n",
        "    )\n",
        "\n",
        "\n",
        "hist = model.fit(x = [np.array(X_numerical_train).astype(float), np.array(X_categorical_train)], \n",
        "                 y = np.array(Y_train),\n",
        "                 validation_data = ([np.array(X_numerical_val).astype(float), np.array(X_categorical_val)], np.array(Y_val)),\n",
        "                 epochs=1000, \n",
        "                 validation_split = 0.1,\n",
        "                 callbacks = [bestValLoss],\n",
        "                )\n",
        "results = pd.DataFrame(hist.history)\n",
        "results.to_csv('results.csv')\n",
        "model.save(\"bestValLoss.hdf5\")"
      ],
      "execution_count": 6,
      "outputs": [
        {
          "output_type": "stream",
          "text": [
            "Epoch 1/1000\n",
            "23/23 [==============================] - 1s 20ms/step - loss: 0.6920 - accuracy: 0.5436 - val_loss: 0.4719 - val_accuracy: 0.8375\n",
            "Epoch 2/1000\n",
            "23/23 [==============================] - 0s 4ms/step - loss: 0.5332 - accuracy: 0.7733 - val_loss: 0.4682 - val_accuracy: 0.8375\n",
            "Epoch 3/1000\n",
            "23/23 [==============================] - 0s 4ms/step - loss: 0.5247 - accuracy: 0.7643 - val_loss: 0.4498 - val_accuracy: 0.8375\n",
            "Epoch 4/1000\n",
            "23/23 [==============================] - 0s 4ms/step - loss: 0.5248 - accuracy: 0.7292 - val_loss: 0.4146 - val_accuracy: 0.8375\n",
            "Epoch 5/1000\n",
            "23/23 [==============================] - 0s 4ms/step - loss: 0.4345 - accuracy: 0.7666 - val_loss: 0.3926 - val_accuracy: 0.7750\n",
            "Epoch 6/1000\n",
            "23/23 [==============================] - 0s 4ms/step - loss: 0.3735 - accuracy: 0.8466 - val_loss: 0.3596 - val_accuracy: 0.7750\n",
            "Epoch 7/1000\n",
            "23/23 [==============================] - 0s 4ms/step - loss: 0.2736 - accuracy: 0.8941 - val_loss: 0.3757 - val_accuracy: 0.8000\n",
            "Epoch 8/1000\n",
            "23/23 [==============================] - 0s 4ms/step - loss: 0.2407 - accuracy: 0.9019 - val_loss: 0.3967 - val_accuracy: 0.8125\n",
            "Epoch 9/1000\n",
            "23/23 [==============================] - 0s 4ms/step - loss: 0.1690 - accuracy: 0.9535 - val_loss: 0.4118 - val_accuracy: 0.8000\n",
            "Epoch 10/1000\n",
            "23/23 [==============================] - 0s 3ms/step - loss: 0.1333 - accuracy: 0.9711 - val_loss: 0.4190 - val_accuracy: 0.8125\n",
            "Epoch 11/1000\n",
            "23/23 [==============================] - 0s 3ms/step - loss: 0.1162 - accuracy: 0.9731 - val_loss: 0.4992 - val_accuracy: 0.7875\n",
            "Epoch 12/1000\n",
            "23/23 [==============================] - 0s 3ms/step - loss: 0.0834 - accuracy: 0.9925 - val_loss: 0.4717 - val_accuracy: 0.8000\n",
            "Epoch 13/1000\n",
            "23/23 [==============================] - 0s 4ms/step - loss: 0.0711 - accuracy: 0.9882 - val_loss: 0.5160 - val_accuracy: 0.7875\n",
            "Epoch 14/1000\n",
            "23/23 [==============================] - 0s 4ms/step - loss: 0.0468 - accuracy: 0.9969 - val_loss: 0.5497 - val_accuracy: 0.7875\n",
            "Epoch 15/1000\n",
            "23/23 [==============================] - 0s 4ms/step - loss: 0.0354 - accuracy: 0.9974 - val_loss: 0.5436 - val_accuracy: 0.8000\n",
            "Epoch 16/1000\n",
            "23/23 [==============================] - 0s 5ms/step - loss: 0.0265 - accuracy: 0.9981 - val_loss: 0.5767 - val_accuracy: 0.7875\n",
            "Epoch 17/1000\n",
            "23/23 [==============================] - 0s 4ms/step - loss: 0.0204 - accuracy: 1.0000 - val_loss: 0.5821 - val_accuracy: 0.8000\n",
            "Epoch 18/1000\n",
            "23/23 [==============================] - 0s 4ms/step - loss: 0.0157 - accuracy: 1.0000 - val_loss: 0.5995 - val_accuracy: 0.8000\n",
            "Epoch 19/1000\n",
            "23/23 [==============================] - 0s 5ms/step - loss: 0.0122 - accuracy: 1.0000 - val_loss: 0.6229 - val_accuracy: 0.8000\n",
            "Epoch 20/1000\n",
            "23/23 [==============================] - 0s 4ms/step - loss: 0.0095 - accuracy: 1.0000 - val_loss: 0.6269 - val_accuracy: 0.8000\n",
            "Epoch 21/1000\n",
            "23/23 [==============================] - 0s 4ms/step - loss: 0.0075 - accuracy: 1.0000 - val_loss: 0.6520 - val_accuracy: 0.8000\n"
          ],
          "name": "stdout"
        }
      ]
    },
    {
      "cell_type": "markdown",
      "metadata": {
        "id": "IOygyTq4nopR"
      },
      "source": [
        "### Results\n",
        "Poor AUC and inconsistent run to run results!\n",
        "43 variables with only 1000 datapoints make it difficult to run traditional ML methods like dense neural networks without overfitting\n",
        "\n",
        "Plotting results created following guide on https://www.dlology.com/blog/simple-guide-on-how-to-generate-roc-plot-for-keras-classifier/"
      ]
    },
    {
      "cell_type": "code",
      "metadata": {
        "colab": {
          "base_uri": "https://localhost:8080/",
          "height": 791
        },
        "id": "LL9WXH29eCsV",
        "outputId": "20903dde-dc57-4fc0-a6c2-d1ab2f4f8524"
      },
      "source": [
        "results[['loss','val_loss']].plot(logy=True)\n",
        "results[['accuracy','val_accuracy']].plot(logy=True)\n",
        "plt.show()\n",
        "\n",
        "from sklearn.metrics import roc_curve\n",
        "from sklearn.metrics import auc\n",
        "\n",
        "y_pred = model.predict([np.array(X_numerical_test).astype(float), np.array(X_categorical_test)]).ravel()\n",
        "fpr, tpr, thresholds = roc_curve(np.array(Y_test), y_pred)\n",
        "auc = auc(fpr, tpr)\n",
        "\n",
        "plt.figure(1)\n",
        "plt.plot([0, 1], [0, 1], 'k--')\n",
        "plt.plot(fpr, tpr, label='Simple Dense NN (area = {:.3f})'.format(auc))\n",
        "plt.xlabel('False positive rate')\n",
        "plt.ylabel('True positive rate')\n",
        "plt.title('ROC curve')\n",
        "plt.legend(loc='best')\n",
        "plt.show()"
      ],
      "execution_count": 7,
      "outputs": [
        {
          "output_type": "display_data",
          "data": {
            "image/png": "[encoded data removed]",
            "text/plain": [
              "<Figure size 432x288 with 1 Axes>"
            ]
          },
          "metadata": {
            "tags": [],
            "needs_background": "light"
          }
        },
        {
          "output_type": "display_data",
          "data": {
            "image/png": "[encoded data removed]",
            "text/plain": [
              "<Figure size 432x288 with 1 Axes>"
            ]
          },
          "metadata": {
            "tags": [],
            "needs_background": "light"
          }
        },
        {
          "output_type": "display_data",
          "data": {
            "image/png": "[encoded data removed]",
            "text/plain": [
              "<Figure size 432x288 with 1 Axes>"
            ]
          },
          "metadata": {
            "tags": [],
            "needs_background": "light"
          }
        }
      ]
    }
  ]
}